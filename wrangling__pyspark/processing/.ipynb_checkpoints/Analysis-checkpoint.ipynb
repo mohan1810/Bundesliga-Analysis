{
 "cells": [
  {
   "cell_type": "code",
   "execution_count": 1,
   "id": "0b117bd0-5912-4826-8e15-ce7574be1cb7",
   "metadata": {},
   "outputs": [],
   "source": [
    "from pyspark.sql import SparkSession\n",
    "import pyspark.sql.functions as f"
   ]
  },
  {
   "cell_type": "code",
   "execution_count": 2,
   "id": "1d99e8aa-e6fc-4606-826b-faadb461d1e9",
   "metadata": {},
   "outputs": [
    {
     "name": "stderr",
     "output_type": "stream",
     "text": [
      "Setting default log level to \"WARN\".\n",
      "To adjust logging level use sc.setLogLevel(newLevel). For SparkR, use setLogLevel(newLevel).\n",
      "23/09/29 08:42:14 WARN NativeCodeLoader: Unable to load native-hadoop library for your platform... using builtin-java classes where applicable\n"
     ]
    }
   ],
   "source": [
    "spark = SparkSession.builder.appName(\"FootballAnalysis\").master(\"local[3]\").getOrCreate()"
   ]
  },
  {
   "cell_type": "code",
   "execution_count": 25,
   "id": "a19b6f1e-7a48-4598-9bb7-4698b9e5427a",
   "metadata": {},
   "outputs": [],
   "source": [
    "df = spark.read\\\n",
    "        .format(\"csv\")\\\n",
    "        .option(\"header\",\"true\")\\\n",
    "        .option(\"inferSchema\",\"true\")\\\n",
    "        .load(\"/Users/mohan/Desktop/PySpark/wrangling__pyspark/Data/Matches.csv\")\n",
    "#Rename Column\n",
    "old_col = df.columns[-3:]\n",
    "new_col = ['HomeTeamGoals','AwayTeamGoals','FinalResult']\n",
    "col = zip(old_col,new_col)\n",
    "for old,new in col:\n",
    "    df = df.withColumnRenamed(old,new)"
   ]
  },
  {
   "cell_type": "code",
   "execution_count": 42,
   "id": "f33bf8f3-8c32-480f-91ce-ff09bbca7df2",
   "metadata": {},
   "outputs": [
    {
     "data": {
      "text/plain": [
       "[0, 0, 0, 0, 0, 0, 0, 0, 0]"
      ]
     },
     "execution_count": 42,
     "metadata": {},
     "output_type": "execute_result"
    }
   ],
   "source": [
    "#checking null values in all Columns\n",
    "null_values = [df.filter(f.col(column).isNull()).count() for column in df.columns]\n",
    "null_values"
   ]
  },
  {
   "cell_type": "code",
   "execution_count": 26,
   "id": "c3490fda-642c-4113-ab97-a1465de685c5",
   "metadata": {},
   "outputs": [
    {
     "name": "stdout",
     "output_type": "stream",
     "text": [
      "+--------+---+------+----------+-------------+--------------+-------------+-------------+-----------+\n",
      "|Match_ID|Div|Season|      Date|     HomeTeam|      AwayTeam|HomeTeamGoals|AwayTeamGoals|FinalResult|\n",
      "+--------+---+------+----------+-------------+--------------+-------------+-------------+-----------+\n",
      "|   34502| D1|  2000|2000-10-21|Bayern Munich|   Munich 1860|            3|            1|          H|\n",
      "|   34451| D1|  2000|2000-09-06|Bayern Munich|     Wolfsburg|            3|            1|          H|\n",
      "|   34466| D1|  2000|2000-09-16|Bayern Munich|  Unterhaching|            3|            1|          H|\n",
      "|   34484| D1|  2000|2000-09-30|Bayern Munich| Hansa Rostock|            0|            1|          A|\n",
      "|   34430| D1|  2000|2000-08-12|Bayern Munich|        Hertha|            4|            1|          H|\n",
      "|   34520| D1|  2000|2000-11-04|Bayern Munich|      Dortmund|            6|            2|          H|\n",
      "|   34539| D1|  2000|2000-11-18|Bayern Munich| Ein Frankfurt|            1|            2|          A|\n",
      "|   34556| D1|  2000|2000-12-02|Bayern Munich|    Leverkusen|            2|            0|          H|\n",
      "|   34576| D1|  2000|2000-12-13|Bayern Munich|       Hamburg|            2|            1|          H|\n",
      "|   34592| D1|  2000|2001-01-27|Bayern Munich|        Bochum|            3|            2|          H|\n",
      "|   34610| D1|  2000|2001-02-10|Bayern Munich|     Stuttgart|            1|            0|          H|\n",
      "|   34628| D1|  2000|2001-02-24|Bayern Munich|       FC Koln|            1|            1|          D|\n",
      "|   34646| D1|  2000|2001-03-10|Bayern Munich|       Cottbus|            2|            0|          H|\n",
      "|   34664| D1|  2000|2001-03-31|Bayern Munich| Werder Bremen|            2|            3|          A|\n",
      "|   34682| D1|  2000|2001-04-14|Bayern Munich|    Schalke 04|            1|            3|          A|\n",
      "|   34701| D1|  2000|2001-04-28|Bayern Munich|      Freiburg|            1|            0|          H|\n",
      "|   34718| D1|  2000|2001-05-12|Bayern Munich|Kaiserslautern|            2|            1|          H|\n",
      "|   34440| D1|  2000|2000-08-19|       Bochum| Bayern Munich|            0|            3|          A|\n",
      "|   34459| D1|  2000|2000-09-09|       Bochum|       Hamburg|            0|            4|          A|\n",
      "|   34467| D1|  2000|2000-09-16|       Bochum|     Wolfsburg|            2|            1|          H|\n",
      "+--------+---+------+----------+-------------+--------------+-------------+-------------+-----------+\n",
      "only showing top 20 rows\n",
      "\n"
     ]
    }
   ],
   "source": [
    "# Q1 . Who are the winners of the D1 division in the Germany Football Association (Bundesliga) in the last decade?\n",
    "d1_division = df.filter(f.expr(\"Div='D1' and Season>=2000 and Season<=2010\"))\n",
    "d1_division.orderBy('Season',\"HomeTeam\").show()\n"
   ]
  },
  {
   "cell_type": "code",
   "execution_count": 35,
   "id": "248cdce0-bc04-4f3c-ac74-5ab71cf021a4",
   "metadata": {},
   "outputs": [
    {
     "name": "stdout",
     "output_type": "stream",
     "text": [
      "+--------+---+------+----------+------------------+--------------+-------------+-------------+-----------+\n",
      "|Match_ID|Div|Season|      Date|          HomeTeam|      AwayTeam|HomeTeamGoals|AwayTeamGoals|FinalResult|\n",
      "+--------+---+------+----------+------------------+--------------+-------------+-------------+-----------+\n",
      "|       1| D2|  2009|2010-04-04|        Oberhausen|Kaiserslautern|            2|            1|          H|\n",
      "|       2| D2|  2009|2009-11-01|       Munich 1860|Kaiserslautern|            0|            1|          A|\n",
      "|       3| D2|  2009|2009-10-04|     Frankfurt FSV|Kaiserslautern|            1|            1|          D|\n",
      "|       4| D2|  2009|2010-02-21|     Frankfurt FSV|     Karlsruhe|            2|            1|          H|\n",
      "|       5| D2|  2009|2009-12-06|             Ahlen|     Karlsruhe|            1|            3|          A|\n",
      "|       6| D2|  2009|2010-04-03|      Union Berlin|     Karlsruhe|            1|            1|          D|\n",
      "|       7| D2|  2009|2009-08-14|         Paderborn|     Karlsruhe|            2|            0|          H|\n",
      "|       8| D2|  2009|2010-03-08|         Bielefeld|     Karlsruhe|            0|            1|          A|\n",
      "|       9| D2|  2009|2009-09-26|    Kaiserslautern|     Karlsruhe|            2|            0|          H|\n",
      "|      10| D2|  2009|2009-11-21|     Hansa Rostock|     Karlsruhe|            2|            1|          H|\n",
      "|      11| D2|  2009|2009-12-19|    Greuther Furth|     Karlsruhe|            1|            4|          A|\n",
      "|      12| D2|  2009|2010-04-16|           Koblenz|     Karlsruhe|            2|            2|          D|\n",
      "|      13| D2|  2009|2010-03-21|        Oberhausen|     Karlsruhe|            1|            0|          H|\n",
      "|      14| D2|  2009|2009-09-14|           Cottbus|     Karlsruhe|            2|            4|          A|\n",
      "|      15| D2|  2009|2010-05-02|          Duisburg|     Karlsruhe|            0|            1|          A|\n",
      "|      16| D2|  2009|2009-10-30|Fortuna Dusseldorf|     Karlsruhe|            1|            0|          H|\n",
      "|      17| D2|  2009|2010-01-15|            Aachen|     Karlsruhe|            3|            1|          H|\n",
      "|      18| D2|  2009|2009-10-18|          Augsburg|     Karlsruhe|            1|            1|          D|\n",
      "|      19| D2|  2009|2010-02-05|          St Pauli|     Karlsruhe|            2|            1|          H|\n",
      "|      20| D2|  2009|2009-08-24|       Munich 1860|     Karlsruhe|            1|            3|          A|\n",
      "+--------+---+------+----------+------------------+--------------+-------------+-------------+-----------+\n",
      "only showing top 20 rows\n",
      "\n"
     ]
    }
   ],
   "source": [
    "df.show()"
   ]
  },
  {
   "cell_type": "code",
   "execution_count": null,
   "id": "7a5ba48e-651f-460e-b295-a8a730911fef",
   "metadata": {},
   "outputs": [],
   "source": []
  }
 ],
 "metadata": {
  "kernelspec": {
   "display_name": "Python 3 (ipykernel)",
   "language": "python",
   "name": "python3"
  },
  "language_info": {
   "codemirror_mode": {
    "name": "ipython",
    "version": 3
   },
   "file_extension": ".py",
   "mimetype": "text/x-python",
   "name": "python",
   "nbconvert_exporter": "python",
   "pygments_lexer": "ipython3",
   "version": "3.9.7"
  }
 },
 "nbformat": 4,
 "nbformat_minor": 5
}
